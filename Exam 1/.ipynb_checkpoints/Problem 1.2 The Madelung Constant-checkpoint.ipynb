{
 "cells": [
  {
   "cell_type": "markdown",
   "metadata": {
    "colab_type": "text",
    "id": "iWR3k2mRzqUX"
   },
   "source": [
    "# Problem 1.2"
   ]
  },
  {
   "cell_type": "markdown",
   "metadata": {
    "colab_type": "text",
    "id": "pI1kDyQ5zqUm"
   },
   "source": [
    "## Exercise 2.9: The Madelung constant\n",
    "\\textbf{from Newman Computational Physics}\n"
   ]
  },
  {
   "cell_type": "markdown",
   "metadata": {},
   "source": [
    "\n",
    "In condensed matter physics the Madelung constant gives the total\n",
    "electric potential felt by an atom in a solid.  It depends on the charges\n",
    "on the other atoms nearby and their locations.  Consider for instance solid\n",
    "sodium chloride---table salt.  The sodium chloride crystal has atoms\n",
    "arranged on a cubic lattice, but with alternating sodium and chlorine\n",
    "atoms, the sodium ones having a single positive charge $+e$ and the\n",
    "chlorine ones a single negative charge~$-e$, where $e$ is the charge on the\n",
    "electron.  If we label each position on the lattice by three integer\n",
    "coordinates $(i,j,k)$, then the sodium atoms fall at positions where\n",
    "$i+j+k$ is even, and the chlorine atoms at positions where $i+j+k$ is odd.\n",
    "\n",
    "Consider a sodium atom at the origin, $i=j=k=0$, and let us calculate the\n",
    "Madelung constant.  If the spacing of atoms on the lattice is~$a$, then the\n",
    "distance from the origin to the atom at position $(i,j,k)$ is\n",
    "\\begin{displaymath}\n",
    "\\sqrt{(ia)^2 + (ja)^2 + (ka)^2} = a \\sqrt{i^2+j^2+k^2},\n",
    "\\end{displaymath}\n",
    "and the potential at the origin created by such an atom is\n",
    "\\begin{displaymath}\n",
    "V(i,j,k) = \\pm {e\\over4\\pi\\epsilon_0 a\\sqrt{i^2+j^2+k^2}},\n",
    "\\end{displaymath}\n",
    "with $\\epsilon_0$ being the permittivity of the vacuum and the sign of the\n",
    "expression depending on whether $i+j+k$ is even or odd.  The total\n",
    "potential felt by the sodium atom is then the sum of this quantity over all\n",
    "other atoms.  Let us assume a cubic box around the sodium at the origin,\n",
    "with $L$ atoms in all directions.  Then\n",
    "\\begin{displaymath}\n",
    "V_\\textrm{total} = \\sum_{\\substack{i,j,k=-L\\\\ \\textrm{not }i=j=k=0}}^L\n",
    "                   \\hspace{-0.5em} V(i,j,k)\n",
    "                 = {e\\over4\\pi\\epsilon_0 a}\\,M,\n",
    "\\end{displaymath}\n",
    "where $M$ is the Madelung constant, at least approximately---technically\n",
    "the Madelung constant is the value of~$M$ when $L\\to\\infty$, but one can\n",
    "get a good approximation just by using a large value of~$L$.\n",
    "\n",
    "Write a program to calculate and print the Madelung constant for sodium\n",
    "chloride.  Use as large a value of $L$ as you can, while still having your\n",
    "program run in reasonable time---say in a minute or less."
   ]
  },
  {
   "cell_type": "code",
   "execution_count": null,
   "metadata": {
    "colab": {},
    "colab_type": "code",
    "id": "sNJpOHZ2zqUn",
    "outputId": "b0aeaaea-8926-4e2d-e39e-6839fda134a9"
   },
   "outputs": [
    {
     "name": "stdout",
     "output_type": "stream",
     "text": [
      "Enter the lattice size: 100\n",
      "The Madelung constant is -1.75754696536\n"
     ]
    }
   ],
   "source": [
    "import numpy as np\n",
    "\n",
    "L = int(input(\"Enter the lattice size: \"))\n",
    "x = range(-L,L,1)\n",
    "y = range(-L,L,1)\n",
    "z = range(-L,L,1)\n",
    "M = 0\n",
    "\n",
    "for i in x:\n",
    "    for j in y:\n",
    "        for k in z:\n",
    "            if i==j==k==0:\n",
    "                V = 0\n",
    "            else: \n",
    "                V_i = 1/np.sqrt(i**2+j**2+k**2)\n",
    "                if (i+j+k)%2 == 0:\n",
    "                    V += V_i\n",
    "                elif (i+j+k)%2 == 1:\n",
    "                    V -= V_i\n",
    "\n",
    "print(\"The Madelung constant is\", 2*V)           "
   ]
  },
  {
   "cell_type": "code",
   "execution_count": null,
   "metadata": {
    "colab": {},
    "colab_type": "code",
    "id": "60jlrQIZzqU8"
   },
   "outputs": [],
   "source": []
  },
  {
   "cell_type": "code",
   "execution_count": null,
   "metadata": {
    "colab": {},
    "colab_type": "code",
    "id": "dvzUnLB4zqVH"
   },
   "outputs": [],
   "source": []
  }
 ],
 "metadata": {
  "colab": {
   "name": "problem1.2.ipynb",
   "provenance": []
  },
  "kernelspec": {
   "display_name": "Python 3",
   "language": "python",
   "name": "python3"
  },
  "language_info": {
   "codemirror_mode": {
    "name": "ipython",
    "version": 3
   },
   "file_extension": ".py",
   "mimetype": "text/x-python",
   "name": "python",
   "nbconvert_exporter": "python",
   "pygments_lexer": "ipython3",
   "version": "3.7.3"
  },
  "latex_envs": {
   "LaTeX_envs_menu_present": true,
   "autoclose": false,
   "autocomplete": true,
   "bibliofile": "biblio.bib",
   "cite_by": "apalike",
   "current_citInitial": 1,
   "eqLabelWithNumbers": true,
   "eqNumInitial": 1,
   "hotkeys": {
    "equation": "Ctrl-E",
    "itemize": "Ctrl-I"
   },
   "labels_anchors": false,
   "latex_user_defs": false,
   "report_style_numbering": false,
   "user_envs_cfg": false
  },
  "toc": {
   "base_numbering": 1,
   "nav_menu": {},
   "number_sections": true,
   "sideBar": true,
   "skip_h1_title": false,
   "title_cell": "Table of Contents",
   "title_sidebar": "Contents",
   "toc_cell": false,
   "toc_position": {},
   "toc_section_display": true,
   "toc_window_display": false
  },
  "varInspector": {
   "cols": {
    "lenName": 16,
    "lenType": 16,
    "lenVar": 40
   },
   "kernels_config": {
    "python": {
     "delete_cmd_postfix": "",
     "delete_cmd_prefix": "del ",
     "library": "var_list.py",
     "varRefreshCmd": "print(var_dic_list())"
    },
    "r": {
     "delete_cmd_postfix": ") ",
     "delete_cmd_prefix": "rm(",
     "library": "var_list.r",
     "varRefreshCmd": "cat(var_dic_list()) "
    }
   },
   "types_to_exclude": [
    "module",
    "function",
    "builtin_function_or_method",
    "instance",
    "_Feature"
   ],
   "window_display": false
  }
 },
 "nbformat": 4,
 "nbformat_minor": 1
}
