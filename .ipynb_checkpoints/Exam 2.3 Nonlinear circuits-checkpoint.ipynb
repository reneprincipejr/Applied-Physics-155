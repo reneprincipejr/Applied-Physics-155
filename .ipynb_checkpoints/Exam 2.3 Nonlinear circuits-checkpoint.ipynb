{
 "cells": [
  {
   "cell_type": "markdown",
   "metadata": {},
   "source": [
    "# PROBLEM 2.3"
   ]
  },
  {
   "cell_type": "markdown",
   "metadata": {},
   "source": [
    "## Exercise 6.17: Nonlinear circuits\n",
    "M. Newman, Computational Physics with Python"
   ]
  },
  {
   "attachments": {
    "Figure%202.PNG": {
     "image/png": "[encoded data removed]"
    }
   },
   "cell_type": "markdown",
   "metadata": {},
   "source": [
    "Consider the following simple circuit, a variation on the classic\n",
    "Wheatstone bridge:\n",
    "\n",
    "![Figure%202.PNG](attachment:Figure%202.PNG)\n",
    "\n",
    "The resistors obey the normal Ohm law, but the diode obeys the diode\n",
    "equation:\n",
    "\n",
    "$I = I_0 (e^{V/V_T} - 1),$\n",
    "\n",
    "where $V$ is the voltage across the diode and $I_0$ and $V_T$ are\n",
    "constants.\n",
    "\n",
    "\\begin{enumerate}\n",
    "\\item The Kirchhoff current law says that the total net current flowing\n",
    "  into or out of every point in a circuit must be zero.  Applying the law\n",
    "  to voltage~$V_1$ in the circuit above we get\n",
    "\n",
    "${V_1-V_+\\over R_1} + {V_1\\over R_2} + I_0\\bigl[e^{(V_1-V_2)/V_T} - 1\\bigr] = 0.$\n",
    "\n",
    "Derive the corresponding equation for voltage~$V_2$.\n",
    "\\item Solve the two nonlinear equations for the voltages~$V_1$ and $V_2$\n",
    "  with the conditions\n",
    "\\begin{align*}\n",
    "V_+ &= 5\\,\\textrm{V}, \\\\\n",
    "R_1 &= 1\\,\\mathrm{k}\\Omega, \\qquad\n",
    "R_2 = 4\\,\\mathrm{k}\\Omega, \\qquad\n",
    "R_3 = 3\\,\\mathrm{k}\\Omega, \\qquad\n",
    "R_4 = 2\\,\\mathrm{k}\\Omega, \\\\\n",
    "I_0 &= 3\\,\\textrm{nA},\\qquad\n",
    "V_T = 0.05\\,\\textrm{V}.\n",
    "\\end{align*}\n",
    "You can use either the relaxation method or Newton's method to solve the\n",
    "equations.  If you use Newton's method you can solve Eq.~(6.108) for\n",
    "$\\Delta\\vec{x}$ using the function \\verb|solve()| from \\verb|numpy.linalg|\n",
    "if you want to, but in this case the matrix is only a $2\\times2$ matrix, so\n",
    "it's easy to calculate the inverse directly too.\n",
    "\\item The electronic engineer's rule of thumb for diodes is that the\n",
    "  voltage across a (forward biased) diode is always about 0.6 volts.\n",
    "  Confirm that your results agree with this rule.\n",
    "\\end{enumerate}"
   ]
  },
  {
   "cell_type": "markdown",
   "metadata": {},
   "source": [
    "Corresponding Equation for V2: \n",
    "\n",
    "$((V2-Vp)/R3) + (V2/R4) + I0*((e**((V2-V1)/Vt))-1)$\n"
   ]
  },
  {
   "cell_type": "code",
   "execution_count": 22,
   "metadata": {},
   "outputs": [
    {
     "name": "stdout",
     "output_type": "stream",
     "text": [
      "2.6615802615990427 2.0000035999935446\n"
     ]
    }
   ],
   "source": [
    "# -*- coding: utf-8 -*-\n",
    "\"\"\"\n",
    "Created on Sun Apr  8 1:23:21 2018\n",
    "\n",
    "@author: Rene\n",
    "\"\"\"\n",
    "\n",
    "\n",
    "import numpy as np\n",
    "from numpy.linalg import norm\n",
    "\n",
    "Vp = 5.0\n",
    "R1 = 1000.0\n",
    "R2 = 4000.0\n",
    "R3 = 3000.0\n",
    "R4 = 2000.0\n",
    "I0 = 3e-9\n",
    "Vt = 0.05\n",
    "\n",
    "#ASSUMING INITIAL VALUES FOR V1 AND V2 AND SETTING THE ACCURACY\n",
    "V1, V2 = 3.0, 2.0\n",
    "accuracy = 1e-10\n",
    "\n",
    "#FOLLOWING THE FORM Ax=V\n",
    "\n",
    "#V=f(V1,V2) #Vector\n",
    "\n",
    "def f(V1,V2):\n",
    "    v1 = ((V1-Vp)/R1) + (V1/R2) + I0*((np.exp((V1-V2)/Vt))-1)\n",
    "    v2 = ((V2-Vp)/R3) + (V2/R4) + I0*((np.exp((V2-V1)/Vt))-1)\n",
    "    return np.array([v1,v2],float)\n",
    "\n",
    "#A=df(V1,V2) #2x2 Matrix\n",
    "#the elements are partial derivatives with respect to the variables V1 and V2\n",
    "\n",
    "def df(V1,V2):\n",
    "    \n",
    "    A11 = (1/R1) + (1/R2) + ((I0/Vt)*(np.exp((V1-V2)/Vt)))\n",
    "    A12 = -((I0/Vt)*(np.exp((V1-V2)/Vt)))\n",
    "    A21 = -((I0/Vt)*(np.exp((V2-V1)/Vt)))\n",
    "    A22 = (1/R3) + (1/R4) + ((I0/Vt)*(np.exp((V2-V1)/Vt)))\n",
    "    return np.array([[A11,A12],[A21, A22]],float)\n",
    "\n",
    "#APPLY NEWTON'S METHOD\n",
    "\n",
    "fv = f(V1,V2)\n",
    "fn = norm(fv, ord = 2)\n",
    "\n",
    "while abs(fn)> accuracy:\n",
    "        delta = np.linalg.solve(df(V1,V2),f(V1,V2))\n",
    "        V1 -= delta[0]\n",
    "        V2 -= delta[1]\n",
    "    \n",
    "        fv = f(V1,V2)\n",
    "        fn = norm(fv)\n",
    "\n",
    "print(V1,V2) "
   ]
  },
  {
   "cell_type": "code",
   "execution_count": 23,
   "metadata": {},
   "outputs": [
    {
     "name": "stdout",
     "output_type": "stream",
     "text": [
      "0.6615766616054981\n"
     ]
    }
   ],
   "source": [
    "#COMPARING THE DIFFERENCE TO THE ELECTRONIC ENGINEER'S RULE OF THUMB\n",
    "#THEORETICALLY, VOLTAE DIFFERENCE is around 0.6 volts\n",
    "\n",
    "print(V1-V2)"
   ]
  },
  {
   "cell_type": "markdown",
   "metadata": {},
   "source": [
    "The results are near enough."
   ]
  },
  {
   "cell_type": "code",
   "execution_count": null,
   "metadata": {},
   "outputs": [],
   "source": []
  }
 ],
 "metadata": {
  "kernelspec": {
   "display_name": "Python 3",
   "language": "python",
   "name": "python3"
  },
  "language_info": {
   "codemirror_mode": {
    "name": "ipython",
    "version": 3
   },
   "file_extension": ".py",
   "mimetype": "text/x-python",
   "name": "python",
   "nbconvert_exporter": "python",
   "pygments_lexer": "ipython3",
   "version": "3.7.3"
  },
  "latex_envs": {
   "LaTeX_envs_menu_present": true,
   "autoclose": false,
   "autocomplete": true,
   "bibliofile": "biblio.bib",
   "cite_by": "apalike",
   "current_citInitial": 1,
   "eqLabelWithNumbers": true,
   "eqNumInitial": 1,
   "hotkeys": {
    "equation": "Ctrl-E",
    "itemize": "Ctrl-I"
   },
   "labels_anchors": false,
   "latex_user_defs": false,
   "report_style_numbering": false,
   "user_envs_cfg": false
  },
  "toc": {
   "base_numbering": 1,
   "nav_menu": {},
   "number_sections": true,
   "sideBar": true,
   "skip_h1_title": false,
   "title_cell": "Table of Contents",
   "title_sidebar": "Contents",
   "toc_cell": false,
   "toc_position": {},
   "toc_section_display": true,
   "toc_window_display": false
  },
  "varInspector": {
   "cols": {
    "lenName": 16,
    "lenType": 16,
    "lenVar": 40
   },
   "kernels_config": {
    "python": {
     "delete_cmd_postfix": "",
     "delete_cmd_prefix": "del ",
     "library": "var_list.py",
     "varRefreshCmd": "print(var_dic_list())"
    },
    "r": {
     "delete_cmd_postfix": ") ",
     "delete_cmd_prefix": "rm(",
     "library": "var_list.r",
     "varRefreshCmd": "cat(var_dic_list()) "
    }
   },
   "types_to_exclude": [
    "module",
    "function",
    "builtin_function_or_method",
    "instance",
    "_Feature"
   ],
   "window_display": false
  }
 },
 "nbformat": 4,
 "nbformat_minor": 2
}
