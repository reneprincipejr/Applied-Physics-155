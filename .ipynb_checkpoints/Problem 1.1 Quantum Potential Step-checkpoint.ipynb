{
 "cells": [
  {
   "cell_type": "markdown",
   "metadata": {
    "id": "3xIaAtYueJnn"
   },
   "source": [
    "# Problem 1.1\n"
   ]
  },
  {
   "cell_type": "markdown",
   "metadata": {
    "id": "mV8WBaLzfeWv"
   },
   "source": [
    "## Exercise 2.5: Quantum Potential Step\n",
    "M. Newman, Computational Physics with Python\n"
   ]
  },
  {
   "cell_type": "markdown",
   "metadata": {},
   "source": [
    "A well-known quantum mechanics problem involves a particle of\n",
    "mass~$m$ that encounters a one-dimensional potential step, like this:"
   ]
  },
  {
   "attachments": {
    "Problem1.1.PNG": {
     "image/png": "[encoded data removed]"
    }
   },
   "cell_type": "markdown",
   "metadata": {},
   "source": [
    "![Problem1.1.PNG](attachment:Problem1.1.PNG)"
   ]
  },
  {
   "cell_type": "markdown",
   "metadata": {},
   "source": [
    "The particle with initial kinetic energy~$E$ and\n",
    "wavevector~$k_1=\\sqrt{2mE}/\\hbar$ enters from the left and encounters a\n",
    "sudden jump in potential energy of height~$V$ at position~$x=0$.  By\n",
    "solving the Schr\\\"odinger equation, one can show that when $E>V$ the\n",
    "particle may either (a)~pass the step, in which case it has a lower kinetic\n",
    "energy of $E-V$ on the other side and a correspondingly smaller wavevector\n",
    "of $k_2=\\sqrt{2m(E-V)}/\\hbar$, or (b)~it may be reflected, keeping all of\n",
    "its kinetic energy and an unchanged wavevector but moving in the opposite\n",
    "direction.  The probabilities $T$ and $R$ for transmission and\n",
    "reflection are given by\n",
    "\n",
    "\n",
    "T = $\\frac{4k_1k_2}{(k_1+k_2)^2}$\n",
    "\n",
    "R = $\\biggl( {k_1-k_2\\over k_1+k_2} \\biggr)^2.$\n",
    "\n",
    "Suppose we have a particle with mass equal to the electron mass\n",
    "$m=9.11\\times10^{-31}\\,$kg and energy $10\\,$eV encountering a potential\n",
    "step of height~$9\\,$eV.  Write a Python program to compute and print out\n",
    "the transmission and reflection probabilities using the formulas above."
   ]
  },
  {
   "cell_type": "markdown",
   "metadata": {},
   "source": [
    "## Code "
   ]
  },
  {
   "cell_type": "code",
   "execution_count": 2,
   "metadata": {
    "id": "x0JyhUS-eJnq",
    "outputId": "f1d0c9e4-7a04-4963-bcc7-9f964b5350a1"
   },
   "outputs": [
    {
     "name": "stdout",
     "output_type": "stream",
     "text": [
      "The particle's initial kinetic energy in eV is: 10\n",
      "The potential step energy in eV is: 9\n",
      "The transmission probability is 0.7301261363877616\n",
      "The reflection probability is 0.26987386361223836\n",
      "Total probability is 1.0\n"
     ]
    }
   ],
   "source": [
    "import numpy as np\n",
    "from scipy.constants import hbar, m_e\n",
    "\n",
    "E = float(input(\"The particle's initial kinetic energy in eV is: \"))\n",
    "V = float(input(\"The potential step energy in eV is: \"))\n",
    "h_ = float(hbar)\n",
    "m = float(m_e)\n",
    "\n",
    "k1 = np.sqrt(2*m*E)/h_\n",
    "k2 = np.sqrt(2*m*(E-V))/h_\n",
    "\n",
    "T = (4*k1*k2)/(k1+k2)**2\n",
    "R = ((k1-k2)/(k1+k2))**2\n",
    "P = T+R\n",
    "\n",
    "print(\"The transmission probability is\",T)\n",
    "print(\"The reflection probability is\", R)\n",
    "print(\"Total probability is\", P)"
   ]
  },
  {
   "cell_type": "code",
   "execution_count": null,
   "metadata": {
    "id": "9rlOeg6AeJns"
   },
   "outputs": [],
   "source": []
  }
 ],
 "metadata": {
  "colab": {
   "name": "problem1.1.ipynb",
   "provenance": []
  },
  "kernelspec": {
   "display_name": "Python 3",
   "language": "python",
   "name": "python3"
  },
  "language_info": {
   "codemirror_mode": {
    "name": "ipython",
    "version": 3
   },
   "file_extension": ".py",
   "mimetype": "text/x-python",
   "name": "python",
   "nbconvert_exporter": "python",
   "pygments_lexer": "ipython3",
   "version": "3.7.3"
  },
  "latex_envs": {
   "LaTeX_envs_menu_present": true,
   "autoclose": false,
   "autocomplete": true,
   "bibliofile": "biblio.bib",
   "cite_by": "apalike",
   "current_citInitial": 1,
   "eqLabelWithNumbers": true,
   "eqNumInitial": 1,
   "hotkeys": {
    "equation": "Ctrl-E",
    "itemize": "Ctrl-I"
   },
   "labels_anchors": false,
   "latex_user_defs": false,
   "report_style_numbering": false,
   "user_envs_cfg": false
  },
  "toc": {
   "base_numbering": 1,
   "nav_menu": {},
   "number_sections": true,
   "sideBar": true,
   "skip_h1_title": false,
   "title_cell": "Table of Contents",
   "title_sidebar": "Contents",
   "toc_cell": false,
   "toc_position": {},
   "toc_section_display": true,
   "toc_window_display": false
  },
  "varInspector": {
   "cols": {
    "lenName": 16,
    "lenType": 16,
    "lenVar": 40
   },
   "kernels_config": {
    "python": {
     "delete_cmd_postfix": "",
     "delete_cmd_prefix": "del ",
     "library": "var_list.py",
     "varRefreshCmd": "print(var_dic_list())"
    },
    "r": {
     "delete_cmd_postfix": ") ",
     "delete_cmd_prefix": "rm(",
     "library": "var_list.r",
     "varRefreshCmd": "cat(var_dic_list()) "
    }
   },
   "types_to_exclude": [
    "module",
    "function",
    "builtin_function_or_method",
    "instance",
    "_Feature"
   ],
   "window_display": false
  }
 },
 "nbformat": 4,
 "nbformat_minor": 1
}
