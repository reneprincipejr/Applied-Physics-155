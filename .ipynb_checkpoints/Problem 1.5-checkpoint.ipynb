{
 "cells": [
  {
   "cell_type": "markdown",
   "metadata": {
    "colab_type": "text",
    "id": "iiehNUV8zzrb"
   },
   "source": [
    "# Problem 1.5 "
   ]
  },
  {
   "cell_type": "markdown",
   "metadata": {
    "colab_type": "text",
    "id": "8sok_608zzrf"
   },
   "source": [
    "M. Newman, Computational Physics with Python"
   ]
  },
  {
   "cell_type": "code",
   "execution_count": null,
   "metadata": {
    "colab": {},
    "colab_type": "code",
    "id": "Oq8Qhjebzzrh",
    "outputId": "6aa92550-88bb-4db6-816f-e2e250506d52"
   },
   "outputs": [
    {
     "name": "stdout",
     "output_type": "stream",
     "text": [
      "Enter value of a: 0.001\n",
      "Enter value of b: 3000\n",
      "Enter value of c: 0.003\n",
      "The two solutions are -9.99989424599e-13 and -3.0\n",
      "Using the alternative formula, the solutions are -1e-06 and -3000031.72654\n"
     ]
    }
   ],
   "source": [
    "import numpy as np\n",
    "\n",
    "a = float(input('Enter value of a: '))\n",
    "b = float(input('Enter value of b: '))\n",
    "c = float(input('Enter value of c: '))\n",
    "\n",
    "x_1 = (-b+np.sqrt(b**2-4*a*c))/2*a\n",
    "x_2 = (-b-np.sqrt(b**2-4*a*c))/2*a\n",
    "x_3 = 2*c/(-b-np.sqrt(b**2-4*a*c))\n",
    "x_4 = 2*c/(-b+np.sqrt(b**2-4*a*c))\n",
    "\n",
    "                                  \n",
    "print(\"The two solutions are\",x_1, \"and\", x_2)\n",
    "print(\"Using the alternative formula, the solutions are\", x_3,\"and\", x_4)"
   ]
  },
  {
   "cell_type": "code",
   "execution_count": null,
   "metadata": {
    "colab": {},
    "colab_type": "code",
    "id": "ePQzrAEZzzrt",
    "outputId": "7481614c-0274-43d3-aa8e-df5d88c646bc"
   },
   "outputs": [
    {
     "data": {
      "text/plain": [
       "array([ -3.00000000e+06,  -1.00000000e-06])"
      ]
     },
     "execution_count": 3,
     "metadata": {
      "tags": []
     },
     "output_type": "execute_result"
    }
   ],
   "source": [
    "coeff = [a,b,c]\n",
    "np.roots(coeff)"
   ]
  },
  {
   "cell_type": "code",
   "execution_count": null,
   "metadata": {
    "colab": {},
    "colab_type": "code",
    "id": "8LoMUDBzzzr6"
   },
   "outputs": [],
   "source": []
  }
 ],
 "metadata": {
  "colab": {
   "name": "problem1.5.ipynb",
   "provenance": []
  },
  "kernelspec": {
   "display_name": "Python 3",
   "language": "python",
   "name": "python3"
  },
  "language_info": {
   "codemirror_mode": {
    "name": "ipython",
    "version": 3
   },
   "file_extension": ".py",
   "mimetype": "text/x-python",
   "name": "python",
   "nbconvert_exporter": "python",
   "pygments_lexer": "ipython3",
   "version": "3.7.3"
  },
  "latex_envs": {
   "LaTeX_envs_menu_present": true,
   "autoclose": false,
   "autocomplete": true,
   "bibliofile": "biblio.bib",
   "cite_by": "apalike",
   "current_citInitial": 1,
   "eqLabelWithNumbers": true,
   "eqNumInitial": 1,
   "hotkeys": {
    "equation": "Ctrl-E",
    "itemize": "Ctrl-I"
   },
   "labels_anchors": false,
   "latex_user_defs": false,
   "report_style_numbering": false,
   "user_envs_cfg": false
  },
  "toc": {
   "base_numbering": 1,
   "nav_menu": {},
   "number_sections": true,
   "sideBar": true,
   "skip_h1_title": false,
   "title_cell": "Table of Contents",
   "title_sidebar": "Contents",
   "toc_cell": false,
   "toc_position": {},
   "toc_section_display": true,
   "toc_window_display": false
  },
  "varInspector": {
   "cols": {
    "lenName": 16,
    "lenType": 16,
    "lenVar": 40
   },
   "kernels_config": {
    "python": {
     "delete_cmd_postfix": "",
     "delete_cmd_prefix": "del ",
     "library": "var_list.py",
     "varRefreshCmd": "print(var_dic_list())"
    },
    "r": {
     "delete_cmd_postfix": ") ",
     "delete_cmd_prefix": "rm(",
     "library": "var_list.r",
     "varRefreshCmd": "cat(var_dic_list()) "
    }
   },
   "types_to_exclude": [
    "module",
    "function",
    "builtin_function_or_method",
    "instance",
    "_Feature"
   ],
   "window_display": false
  }
 },
 "nbformat": 4,
 "nbformat_minor": 1
}
