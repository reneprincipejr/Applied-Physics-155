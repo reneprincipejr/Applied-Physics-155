{
 "cells": [
  {
   "cell_type": "markdown",
   "metadata": {},
   "source": [
    "# PROBLEM 2.4"
   ]
  },
  {
   "cell_type": "markdown",
   "metadata": {},
   "source": [
    "## Exercise 7.5: Fourier Filtering\n",
    "M. Newman, Computational Physics with Python"
   ]
  },
  {
   "cell_type": "markdown",
   "metadata": {},
   "source": [
    "If you have not done Exercise~7.4 you should do it before thisone.\n",
    "\n",
    "The function $f(t)$ represents a square-wave with amplitude~1 and\n",
    "frequency $1\\,$Hz:\n",
    "\n",
    "\\begin{equation}\n",
    "f(t) = \\left\\lbrace\\begin{array}{rl}\n",
    "          1  & \\qquad\\mbox{if $\\lfloor 2t \\rfloor$ is even,} \\\\\n",
    "         -1  & \\qquad\\mbox{if $\\lfloor 2t \\rfloor$ is odd,}\n",
    "       \\end{array}\\right.\n",
    "\\end{equation}\n",
    "\n",
    "where $\\lfloor x\\rfloor$ means $x$ rounded down to the next lowest integer.\n",
    "Let us attempt to smooth this function using a Fourier transform, as we did\n",
    "in the previous exercise.  Write a program that creates an array of\n",
    "$N=1000$ elements containing a thousand equally spaced samples from a\n",
    "single cycle of this square-wave.  Calculate the discrete Fourier transform\n",
    "of the array.  Now set all but the first ten Fourier coefficients to zero,\n",
    "then invert the Fourier transform again to recover the smoothed signal.\n",
    "Make a plot of the result and on the same axes show the original\n",
    "square-wave as well.  You should find that the signal is not simply\n",
    "smoothed---there are artifacts, wiggles, in the results.  Explain\n",
    "briefly where these come from.\n",
    "\n",
    "Artifacts similar to these arise when Fourier coefficients are discarded in\n",
    "audio and visual compression schemes like those described in Section~7.3.1\n",
    "and are the primary source of imperfections in digitally compressed sound\n",
    "and images."
   ]
  },
  {
   "cell_type": "code",
   "execution_count": 1,
   "metadata": {},
   "outputs": [
    {
     "name": "stderr",
     "output_type": "stream",
     "text": [
      "C:\\Users\\renep\\Anaconda3\\lib\\site-packages\\numpy\\core\\numeric.py:538: ComplexWarning: Casting complex values to real discards the imaginary part\n",
      "  return array(a, dtype, copy=False, order=order)\n"
     ]
    },
    {
     "data": {
      "text/plain": [
       "<Figure size 640x480 with 1 Axes>"
      ]
     },
     "metadata": {},
     "output_type": "display_data"
    }
   ],
   "source": [
    "# -*- coding: utf-8 -*-\n",
    "\"\"\"\n",
    "Created on Sat Apr  7 11:55:04 2018\n",
    "\n",
    "@author: Rene\n",
    "\"\"\"\n",
    "\n",
    "import numpy as np\n",
    "import matplotlib.pyplot as plt\n",
    "from cmath import exp,pi\n",
    "\n",
    "N = 1000\n",
    "\n",
    "#GENERATE A SQUARE WAVE\n",
    "\n",
    "y = -np.ones(N)\n",
    "y[:N//2]=1\n",
    "\n",
    "#PERFORM A DISCRETE FOURIER TRANSFORM ON y\n",
    "\n",
    "def dft(y):\n",
    "    N = len(y)\n",
    "    c = np.zeros(N,complex)\n",
    "    for k in range(N):\n",
    "        for n in range(N):\n",
    "            c[k] += y[n]*exp(-2j*pi*k*n/N)\n",
    "    return c/N\n",
    "\n",
    "c = (dft(y))\n",
    "\n",
    "#SETTING THE FOURIER COEFFICIENTS, c, AFTER THE 10TH TERM TO 0\n",
    "\n",
    "c[10:len(c)]= np.zeros(len(c)-10)\n",
    "\n",
    "#PERFORM AN INVERSE DISCRETE FOURIER TRANSFORM ON THE MODIFIED c\n",
    "\n",
    "def inv_dft(c):\n",
    "    N = len(c)\n",
    "    y_i = np.zeros(N,complex)\n",
    "    for k in range(N):\n",
    "        for n in range(N):\n",
    "            y_i[k] += c[n]*exp(2j*pi*k*n/N)\n",
    "    return 2*y_i\n",
    "\n",
    "y_recovered = (inv_dft(c))\n",
    "\n",
    "#PLOTS\n",
    "\n",
    "plt.plot(y, label=\"Square Wave\")\n",
    "plt.plot(y_recovered, label=\"Recovered Square Wave\")\n",
    "plt.title(\"FOURIER FILTERING\")\n",
    "plt.legend()\n",
    "plt.xlabel(\"Time, s\")\n",
    "plt.ylabel(\"Amplitude\")\n",
    "plt.show()"
   ]
  },
  {
   "cell_type": "markdown",
   "metadata": {},
   "source": [
    "The wiggles and artifacts that is seen on the recovered square wave is best described by the Gibb's Phenomenon. According to the Gibb's Phenomenon, \"these wiggles created when one tries to estimate a function that has a jump discontinuity with a Fourier series.\" Since our function is a square wave, the estimation tends to overshoot on the discontinuity. This could be lessened/smoothed if more harmonics were used, but in the graph, only the first 10 coefficients were used and the others were set to 0, which best explains the presence of wiggles and artifacts\n",
    "\n",
    "Source: Merz, S. 'What is Gibb's Phenomenon'. Quora. (2017)\n",
    "URL: https://www.quora.com/What-is-Gibbs-phenomenon\n",
    "Date retrieved: April 7, 2017\n"
   ]
  },
  {
   "cell_type": "code",
   "execution_count": null,
   "metadata": {},
   "outputs": [],
   "source": []
  }
 ],
 "metadata": {
  "kernelspec": {
   "display_name": "Python 3",
   "language": "python",
   "name": "python3"
  },
  "language_info": {
   "codemirror_mode": {
    "name": "ipython",
    "version": 3
   },
   "file_extension": ".py",
   "mimetype": "text/x-python",
   "name": "python",
   "nbconvert_exporter": "python",
   "pygments_lexer": "ipython3",
   "version": "3.7.3"
  },
  "latex_envs": {
   "LaTeX_envs_menu_present": true,
   "autoclose": false,
   "autocomplete": true,
   "bibliofile": "biblio.bib",
   "cite_by": "apalike",
   "current_citInitial": 1,
   "eqLabelWithNumbers": true,
   "eqNumInitial": 1,
   "hotkeys": {
    "equation": "Ctrl-E",
    "itemize": "Ctrl-I"
   },
   "labels_anchors": false,
   "latex_user_defs": false,
   "report_style_numbering": false,
   "user_envs_cfg": false
  },
  "toc": {
   "base_numbering": 1,
   "nav_menu": {},
   "number_sections": true,
   "sideBar": true,
   "skip_h1_title": false,
   "title_cell": "Table of Contents",
   "title_sidebar": "Contents",
   "toc_cell": false,
   "toc_position": {},
   "toc_section_display": true,
   "toc_window_display": false
  },
  "varInspector": {
   "cols": {
    "lenName": 16,
    "lenType": 16,
    "lenVar": 40
   },
   "kernels_config": {
    "python": {
     "delete_cmd_postfix": "",
     "delete_cmd_prefix": "del ",
     "library": "var_list.py",
     "varRefreshCmd": "print(var_dic_list())"
    },
    "r": {
     "delete_cmd_postfix": ") ",
     "delete_cmd_prefix": "rm(",
     "library": "var_list.r",
     "varRefreshCmd": "cat(var_dic_list()) "
    }
   },
   "types_to_exclude": [
    "module",
    "function",
    "builtin_function_or_method",
    "instance",
    "_Feature"
   ],
   "window_display": false
  }
 },
 "nbformat": 4,
 "nbformat_minor": 2
}
